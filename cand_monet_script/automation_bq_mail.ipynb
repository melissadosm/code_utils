{
 "cells": [
  {
   "cell_type": "markdown",
   "metadata": {},
   "source": [
    "# Automation BQ mail table for candidate monetization\n",
    "Extraction and preprocessing of email data. This notebook simulates the exact procedure that will follow the script to be executed daily, to create a table in BQ and follow mails for candidate monetization.\n",
    "\n",
    "Check script in: _automation_bq_mail_"
   ]
  },
  {
   "cell_type": "code",
   "execution_count": 10,
   "metadata": {},
   "outputs": [],
   "source": [
    "import pandas as pd\n",
    "import numpy as np\n",
    "import pandas_gbq\n",
    "\n",
    "import queries_source\n",
    "import extract_automation as extract \n",
    "import preprocess_automation as preprocess"
   ]
  },
  {
   "cell_type": "markdown",
   "metadata": {},
   "source": [
    "# A. Extraction\n",
    "Data imported\n",
    "\n",
    "**EMAIL INFORMATION**\n",
    "- Sendgrid events: \n",
    "    - email-opened\n",
    "    - email-bounce: Pasa cuando los emails rebotan porque el usuario se desuscribió, nos marcó como Spam o el servidor de correos nos bloquea\n",
    "    - email-dropped: Pasa cuando los emails rebotan porque el usuario se desuscribió o nos marcó como Spam\n",
    "    - email-group_unsubscribe: Cuando el usuario se desuscribe del segmento de correos de notificación\n",
    "    - email-spamreport: nos marcan como spam\n",
    "    - email-unsubscribe: el usuario usó el botón de unsubscribe\n",
    "- Sent events\n",
    "- Clicked events"
   ]
  },
  {
   "cell_type": "markdown",
   "metadata": {},
   "source": [
    "## Loading dataframes "
   ]
  },
  {
   "cell_type": "markdown",
   "metadata": {},
   "source": [
    "__Email info__"
   ]
  },
  {
   "cell_type": "code",
   "execution_count": 2,
   "metadata": {},
   "outputs": [
    {
     "name": "stdout",
     "output_type": "stream",
     "text": [
      "Extracting data from BQ...\n",
      "Collecting sendgrid_events data.\n",
      "Collecting sent_events data.\n",
      "Collecting clicked_events data.\n"
     ]
    }
   ],
   "source": [
    "source_sendgrid, source_sent, source_clicked = extract.extract_data_candidate(tables = [\n",
    "        'sendgrid_events',\n",
    "        'sent_events',\n",
    "        'clicked_events'\n",
    "])"
   ]
  },
  {
   "cell_type": "markdown",
   "metadata": {},
   "source": [
    "__Checking loaded info__"
   ]
  },
  {
   "cell_type": "code",
   "execution_count": 3,
   "metadata": {},
   "outputs": [
    {
     "data": {
      "text/html": [
       "<div>\n",
       "<style scoped>\n",
       "    .dataframe tbody tr th:only-of-type {\n",
       "        vertical-align: middle;\n",
       "    }\n",
       "\n",
       "    .dataframe tbody tr th {\n",
       "        vertical-align: top;\n",
       "    }\n",
       "\n",
       "    .dataframe thead th {\n",
       "        text-align: right;\n",
       "    }\n",
       "</style>\n",
       "<table border=\"1\" class=\"dataframe\">\n",
       "  <thead>\n",
       "    <tr style=\"text-align: right;\">\n",
       "      <th></th>\n",
       "      <th>iduser</th>\n",
       "      <th>campaign</th>\n",
       "      <th>email_id</th>\n",
       "      <th>subject_id</th>\n",
       "      <th>ziprecruiter_job_id_array</th>\n",
       "      <th>timestamp</th>\n",
       "    </tr>\n",
       "  </thead>\n",
       "  <tbody>\n",
       "    <tr>\n",
       "      <td>0</td>\n",
       "      <td>006e790a-89c2-4406-8256-0b59aba1c6cc</td>\n",
       "      <td>campaign_02</td>\n",
       "      <td>22df8f8e-43ef-48bd-9ee7-42780dc31a3b</td>\n",
       "      <td>jobs-001</td>\n",
       "      <td>[u'ziprecruiterpaid0_cpcb9cca589-f260cbf7', u'...</td>\n",
       "      <td>2020-04-27 13:27:09+00:00</td>\n",
       "    </tr>\n",
       "    <tr>\n",
       "      <td>1</td>\n",
       "      <td>010a9c95-5996-4895-97a3-a20a7311f066</td>\n",
       "      <td>campaign_01</td>\n",
       "      <td>6846759f-1f69-4e4e-b65b-4bc18876dcc6</td>\n",
       "      <td>jobs-001</td>\n",
       "      <td>[u'ziprecruiter-sponsored-vet_cpc-18c7cdac', u...</td>\n",
       "      <td>2020-04-27 13:28:55+00:00</td>\n",
       "    </tr>\n",
       "  </tbody>\n",
       "</table>\n",
       "</div>"
      ],
      "text/plain": [
       "                                 iduser     campaign  \\\n",
       "0  006e790a-89c2-4406-8256-0b59aba1c6cc  campaign_02   \n",
       "1  010a9c95-5996-4895-97a3-a20a7311f066  campaign_01   \n",
       "\n",
       "                               email_id subject_id  \\\n",
       "0  22df8f8e-43ef-48bd-9ee7-42780dc31a3b   jobs-001   \n",
       "1  6846759f-1f69-4e4e-b65b-4bc18876dcc6   jobs-001   \n",
       "\n",
       "                           ziprecruiter_job_id_array                 timestamp  \n",
       "0  [u'ziprecruiterpaid0_cpcb9cca589-f260cbf7', u'... 2020-04-27 13:27:09+00:00  \n",
       "1  [u'ziprecruiter-sponsored-vet_cpc-18c7cdac', u... 2020-04-27 13:28:55+00:00  "
      ]
     },
     "execution_count": 3,
     "metadata": {},
     "output_type": "execute_result"
    }
   ],
   "source": [
    "source_sent.head(2)"
   ]
  },
  {
   "cell_type": "code",
   "execution_count": 4,
   "metadata": {},
   "outputs": [
    {
     "data": {
      "text/html": [
       "<div>\n",
       "<style scoped>\n",
       "    .dataframe tbody tr th:only-of-type {\n",
       "        vertical-align: middle;\n",
       "    }\n",
       "\n",
       "    .dataframe tbody tr th {\n",
       "        vertical-align: top;\n",
       "    }\n",
       "\n",
       "    .dataframe thead th {\n",
       "        text-align: right;\n",
       "    }\n",
       "</style>\n",
       "<table border=\"1\" class=\"dataframe\">\n",
       "  <thead>\n",
       "    <tr style=\"text-align: right;\">\n",
       "      <th></th>\n",
       "      <th>iduser</th>\n",
       "      <th>eventname</th>\n",
       "      <th>campaign</th>\n",
       "      <th>email_id</th>\n",
       "      <th>subject_id</th>\n",
       "      <th>timestamp</th>\n",
       "    </tr>\n",
       "  </thead>\n",
       "  <tbody>\n",
       "    <tr>\n",
       "      <td>0</td>\n",
       "      <td>8ec48498-1917-4384-af3c-fe51092ebcab</td>\n",
       "      <td>email-dropped</td>\n",
       "      <td>campaign_01</td>\n",
       "      <td>cd591829-0543-4001-952a-0f755a7c4d32</td>\n",
       "      <td>jobs-001</td>\n",
       "      <td>2020-04-27 21:12:27+00:00</td>\n",
       "    </tr>\n",
       "    <tr>\n",
       "      <td>1</td>\n",
       "      <td>8f0a5fe6-a3ec-40c9-8142-ad1a263484c7</td>\n",
       "      <td>email-dropped</td>\n",
       "      <td>campaign_01</td>\n",
       "      <td>82592cba-9e85-4ef3-9af1-a27c77b7c0a4</td>\n",
       "      <td>jobs-001</td>\n",
       "      <td>2020-04-27 21:12:42+00:00</td>\n",
       "    </tr>\n",
       "  </tbody>\n",
       "</table>\n",
       "</div>"
      ],
      "text/plain": [
       "                                 iduser      eventname     campaign  \\\n",
       "0  8ec48498-1917-4384-af3c-fe51092ebcab  email-dropped  campaign_01   \n",
       "1  8f0a5fe6-a3ec-40c9-8142-ad1a263484c7  email-dropped  campaign_01   \n",
       "\n",
       "                               email_id subject_id                 timestamp  \n",
       "0  cd591829-0543-4001-952a-0f755a7c4d32   jobs-001 2020-04-27 21:12:27+00:00  \n",
       "1  82592cba-9e85-4ef3-9af1-a27c77b7c0a4   jobs-001 2020-04-27 21:12:42+00:00  "
      ]
     },
     "execution_count": 4,
     "metadata": {},
     "output_type": "execute_result"
    }
   ],
   "source": [
    "source_sendgrid.head(2)"
   ]
  },
  {
   "cell_type": "code",
   "execution_count": 5,
   "metadata": {},
   "outputs": [
    {
     "data": {
      "text/html": [
       "<div>\n",
       "<style scoped>\n",
       "    .dataframe tbody tr th:only-of-type {\n",
       "        vertical-align: middle;\n",
       "    }\n",
       "\n",
       "    .dataframe tbody tr th {\n",
       "        vertical-align: top;\n",
       "    }\n",
       "\n",
       "    .dataframe thead th {\n",
       "        text-align: right;\n",
       "    }\n",
       "</style>\n",
       "<table border=\"1\" class=\"dataframe\">\n",
       "  <thead>\n",
       "    <tr style=\"text-align: right;\">\n",
       "      <th></th>\n",
       "      <th>iduser</th>\n",
       "      <th>campaign</th>\n",
       "      <th>email_id</th>\n",
       "      <th>subject_id</th>\n",
       "      <th>ziprecruiter_job_id</th>\n",
       "      <th>timestamp</th>\n",
       "    </tr>\n",
       "  </thead>\n",
       "  <tbody>\n",
       "    <tr>\n",
       "      <td>0</td>\n",
       "      <td>a297e395-c662-465b-af6c-7fb4846022b2</td>\n",
       "      <td>campaign_01</td>\n",
       "      <td>174347e5-7e94-45cf-b1b2-fe08ccc53cf6</td>\n",
       "      <td>jobs-001</td>\n",
       "      <td>ziprecruiterpaid0_cpcb9cca589-e0c2e8e0</td>\n",
       "      <td>2020-04-27 23:00:37+00:00</td>\n",
       "    </tr>\n",
       "    <tr>\n",
       "      <td>1</td>\n",
       "      <td>bb9a8f75-b69f-4839-a4c8-754eba70fa70</td>\n",
       "      <td>campaign_01</td>\n",
       "      <td>10ac08ec-2e95-480f-88ce-7ec1ae8be76d</td>\n",
       "      <td>jobs-001</td>\n",
       "      <td>ziprecruiterpaid0independentsalesfbf3e610fbf3e...</td>\n",
       "      <td>2020-04-27 23:06:44+00:00</td>\n",
       "    </tr>\n",
       "  </tbody>\n",
       "</table>\n",
       "</div>"
      ],
      "text/plain": [
       "                                 iduser     campaign  \\\n",
       "0  a297e395-c662-465b-af6c-7fb4846022b2  campaign_01   \n",
       "1  bb9a8f75-b69f-4839-a4c8-754eba70fa70  campaign_01   \n",
       "\n",
       "                               email_id subject_id  \\\n",
       "0  174347e5-7e94-45cf-b1b2-fe08ccc53cf6   jobs-001   \n",
       "1  10ac08ec-2e95-480f-88ce-7ec1ae8be76d   jobs-001   \n",
       "\n",
       "                                 ziprecruiter_job_id                 timestamp  \n",
       "0             ziprecruiterpaid0_cpcb9cca589-e0c2e8e0 2020-04-27 23:00:37+00:00  \n",
       "1  ziprecruiterpaid0independentsalesfbf3e610fbf3e... 2020-04-27 23:06:44+00:00  "
      ]
     },
     "execution_count": 5,
     "metadata": {},
     "output_type": "execute_result"
    }
   ],
   "source": [
    "source_clicked.head(2)"
   ]
  },
  {
   "cell_type": "markdown",
   "metadata": {},
   "source": [
    "# Preprocessing data\n",
    "## Emails sent"
   ]
  },
  {
   "cell_type": "code",
   "execution_count": 6,
   "metadata": {},
   "outputs": [
    {
     "name": "stdout",
     "output_type": "stream",
     "text": [
      "Preprocessing emails sent...\n",
      "Number emails sent: 241588\n",
      "Number emails bounced/dropped: 3202\n",
      "Number emails unsubscribed: 247\n",
      "Number emails spammed: 45\n"
     ]
    },
    {
     "data": {
      "text/html": [
       "<div>\n",
       "<style scoped>\n",
       "    .dataframe tbody tr th:only-of-type {\n",
       "        vertical-align: middle;\n",
       "    }\n",
       "\n",
       "    .dataframe tbody tr th {\n",
       "        vertical-align: top;\n",
       "    }\n",
       "\n",
       "    .dataframe thead th {\n",
       "        text-align: right;\n",
       "    }\n",
       "</style>\n",
       "<table border=\"1\" class=\"dataframe\">\n",
       "  <thead>\n",
       "    <tr style=\"text-align: right;\">\n",
       "      <th></th>\n",
       "      <th>iduser</th>\n",
       "      <th>campaign</th>\n",
       "      <th>email_id</th>\n",
       "      <th>subject_id</th>\n",
       "      <th>ziprecruiter_job_id_array</th>\n",
       "      <th>timestamp</th>\n",
       "      <th>bounced_mail</th>\n",
       "      <th>unsubscribed_mail</th>\n",
       "      <th>spam_mail</th>\n",
       "    </tr>\n",
       "  </thead>\n",
       "  <tbody>\n",
       "    <tr>\n",
       "      <td>0</td>\n",
       "      <td>006e790a-89c2-4406-8256-0b59aba1c6cc</td>\n",
       "      <td>campaign_02</td>\n",
       "      <td>22df8f8e-43ef-48bd-9ee7-42780dc31a3b</td>\n",
       "      <td>jobs-001</td>\n",
       "      <td>[u'ziprecruiterpaid0_cpcb9cca589-f260cbf7', u'...</td>\n",
       "      <td>2020-04-27 13:27:09+00:00</td>\n",
       "      <td>False</td>\n",
       "      <td>False</td>\n",
       "      <td>False</td>\n",
       "    </tr>\n",
       "    <tr>\n",
       "      <td>1</td>\n",
       "      <td>010a9c95-5996-4895-97a3-a20a7311f066</td>\n",
       "      <td>campaign_01</td>\n",
       "      <td>6846759f-1f69-4e4e-b65b-4bc18876dcc6</td>\n",
       "      <td>jobs-001</td>\n",
       "      <td>[u'ziprecruiter-sponsored-vet_cpc-18c7cdac', u...</td>\n",
       "      <td>2020-04-27 13:28:55+00:00</td>\n",
       "      <td>False</td>\n",
       "      <td>False</td>\n",
       "      <td>False</td>\n",
       "    </tr>\n",
       "  </tbody>\n",
       "</table>\n",
       "</div>"
      ],
      "text/plain": [
       "                                 iduser     campaign  \\\n",
       "0  006e790a-89c2-4406-8256-0b59aba1c6cc  campaign_02   \n",
       "1  010a9c95-5996-4895-97a3-a20a7311f066  campaign_01   \n",
       "\n",
       "                               email_id subject_id  \\\n",
       "0  22df8f8e-43ef-48bd-9ee7-42780dc31a3b   jobs-001   \n",
       "1  6846759f-1f69-4e4e-b65b-4bc18876dcc6   jobs-001   \n",
       "\n",
       "                           ziprecruiter_job_id_array  \\\n",
       "0  [u'ziprecruiterpaid0_cpcb9cca589-f260cbf7', u'...   \n",
       "1  [u'ziprecruiter-sponsored-vet_cpc-18c7cdac', u...   \n",
       "\n",
       "                  timestamp  bounced_mail  unsubscribed_mail  spam_mail  \n",
       "0 2020-04-27 13:27:09+00:00         False              False      False  \n",
       "1 2020-04-27 13:28:55+00:00         False              False      False  "
      ]
     },
     "execution_count": 6,
     "metadata": {},
     "output_type": "execute_result"
    }
   ],
   "source": [
    "df_sent = preprocess.preprocess_emails_sent(source_sent, source_sendgrid)\n",
    "df_sent.head(2)"
   ]
  },
  {
   "cell_type": "markdown",
   "metadata": {},
   "source": [
    "## Emails opened"
   ]
  },
  {
   "cell_type": "code",
   "execution_count": 7,
   "metadata": {},
   "outputs": [
    {
     "name": "stdout",
     "output_type": "stream",
     "text": [
      "Preprocessing emails opened...\n",
      "Length emails opened with duplicates: 39117\n",
      "Length emails opened without duplicates: 22948\n"
     ]
    },
    {
     "data": {
      "text/html": [
       "<div>\n",
       "<style scoped>\n",
       "    .dataframe tbody tr th:only-of-type {\n",
       "        vertical-align: middle;\n",
       "    }\n",
       "\n",
       "    .dataframe tbody tr th {\n",
       "        vertical-align: top;\n",
       "    }\n",
       "\n",
       "    .dataframe thead th {\n",
       "        text-align: right;\n",
       "    }\n",
       "</style>\n",
       "<table border=\"1\" class=\"dataframe\">\n",
       "  <thead>\n",
       "    <tr style=\"text-align: right;\">\n",
       "      <th></th>\n",
       "      <th>iduser</th>\n",
       "      <th>eventname</th>\n",
       "      <th>campaign</th>\n",
       "      <th>email_id</th>\n",
       "      <th>subject_id</th>\n",
       "      <th>opened_timestamp</th>\n",
       "    </tr>\n",
       "  </thead>\n",
       "  <tbody>\n",
       "    <tr>\n",
       "      <td>5</td>\n",
       "      <td>506e8616-52af-4c4b-b112-67c52c8b10a4</td>\n",
       "      <td>email-open</td>\n",
       "      <td>campaign_01</td>\n",
       "      <td>2ccf52ff-0de5-4de1-8f2a-d13b89ed451c</td>\n",
       "      <td>jobs-001</td>\n",
       "      <td>2020-04-27 21:12:24+00:00</td>\n",
       "    </tr>\n",
       "    <tr>\n",
       "      <td>6</td>\n",
       "      <td>8a903d09-2efc-4418-ad6d-bc12d36d6e0e</td>\n",
       "      <td>email-open</td>\n",
       "      <td>campaign_01</td>\n",
       "      <td>268e47f6-c7d2-4e46-98d2-af607a2e63c4</td>\n",
       "      <td>jobs-001</td>\n",
       "      <td>2020-04-27 21:18:10+00:00</td>\n",
       "    </tr>\n",
       "  </tbody>\n",
       "</table>\n",
       "</div>"
      ],
      "text/plain": [
       "                                 iduser   eventname     campaign  \\\n",
       "5  506e8616-52af-4c4b-b112-67c52c8b10a4  email-open  campaign_01   \n",
       "6  8a903d09-2efc-4418-ad6d-bc12d36d6e0e  email-open  campaign_01   \n",
       "\n",
       "                               email_id subject_id          opened_timestamp  \n",
       "5  2ccf52ff-0de5-4de1-8f2a-d13b89ed451c   jobs-001 2020-04-27 21:12:24+00:00  \n",
       "6  268e47f6-c7d2-4e46-98d2-af607a2e63c4   jobs-001 2020-04-27 21:18:10+00:00  "
      ]
     },
     "execution_count": 7,
     "metadata": {},
     "output_type": "execute_result"
    }
   ],
   "source": [
    "df_opened = preprocess.preprocess_emails_opened(source_sendgrid)\n",
    "df_opened.head(2)"
   ]
  },
  {
   "cell_type": "markdown",
   "metadata": {},
   "source": [
    "## Emails clicked"
   ]
  },
  {
   "cell_type": "code",
   "execution_count": 8,
   "metadata": {},
   "outputs": [
    {
     "name": "stdout",
     "output_type": "stream",
     "text": [
      "Preprocessing emails clicked...\n",
      "Length emails clicked with duplicates: 2982\n",
      "Length emails clicked without duplicates: 1883\n"
     ]
    },
    {
     "data": {
      "text/html": [
       "<div>\n",
       "<style scoped>\n",
       "    .dataframe tbody tr th:only-of-type {\n",
       "        vertical-align: middle;\n",
       "    }\n",
       "\n",
       "    .dataframe tbody tr th {\n",
       "        vertical-align: top;\n",
       "    }\n",
       "\n",
       "    .dataframe thead th {\n",
       "        text-align: right;\n",
       "    }\n",
       "</style>\n",
       "<table border=\"1\" class=\"dataframe\">\n",
       "  <thead>\n",
       "    <tr style=\"text-align: right;\">\n",
       "      <th></th>\n",
       "      <th>iduser</th>\n",
       "      <th>email_id</th>\n",
       "      <th>num_clicks</th>\n",
       "    </tr>\n",
       "  </thead>\n",
       "  <tbody>\n",
       "    <tr>\n",
       "      <td>0</td>\n",
       "      <td>0014b2df-e462-4db7-b683-6ff4ca5a7b0c</td>\n",
       "      <td>d4bc271f-fbec-41a1-bb7a-5e58f8f50f1c</td>\n",
       "      <td>1</td>\n",
       "    </tr>\n",
       "    <tr>\n",
       "      <td>1</td>\n",
       "      <td>00635f7d-96a0-432b-a5c2-89e067074cc8</td>\n",
       "      <td>38d4ee88-ab40-473a-9b45-af50d5dc97c1</td>\n",
       "      <td>1</td>\n",
       "    </tr>\n",
       "  </tbody>\n",
       "</table>\n",
       "</div>"
      ],
      "text/plain": [
       "                                 iduser                              email_id  \\\n",
       "0  0014b2df-e462-4db7-b683-6ff4ca5a7b0c  d4bc271f-fbec-41a1-bb7a-5e58f8f50f1c   \n",
       "1  00635f7d-96a0-432b-a5c2-89e067074cc8  38d4ee88-ab40-473a-9b45-af50d5dc97c1   \n",
       "\n",
       "   num_clicks  \n",
       "0           1  \n",
       "1           1  "
      ]
     },
     "execution_count": 8,
     "metadata": {},
     "output_type": "execute_result"
    }
   ],
   "source": [
    "df_clicked = preprocess.preprocess_emails_clicked(source_clicked)\n",
    "df_clicked.head(2)"
   ]
  },
  {
   "cell_type": "markdown",
   "metadata": {},
   "source": [
    "## Building funnel"
   ]
  },
  {
   "cell_type": "code",
   "execution_count": 14,
   "metadata": {},
   "outputs": [
    {
     "name": "stdout",
     "output_type": "stream",
     "text": [
      "Building funnel...\n",
      "Length before joining: 241588\n",
      "Length after joining: 241588\n"
     ]
    },
    {
     "data": {
      "text/html": [
       "<div>\n",
       "<style scoped>\n",
       "    .dataframe tbody tr th:only-of-type {\n",
       "        vertical-align: middle;\n",
       "    }\n",
       "\n",
       "    .dataframe tbody tr th {\n",
       "        vertical-align: top;\n",
       "    }\n",
       "\n",
       "    .dataframe thead th {\n",
       "        text-align: right;\n",
       "    }\n",
       "</style>\n",
       "<table border=\"1\" class=\"dataframe\">\n",
       "  <thead>\n",
       "    <tr style=\"text-align: right;\">\n",
       "      <th></th>\n",
       "      <th>iduser</th>\n",
       "      <th>campaign</th>\n",
       "      <th>email_id</th>\n",
       "      <th>subject_id</th>\n",
       "      <th>ziprecruiter_job_id_array</th>\n",
       "      <th>timestamp</th>\n",
       "      <th>bounced_mail</th>\n",
       "      <th>unsubscribed_mail</th>\n",
       "      <th>spam_mail</th>\n",
       "      <th>eventname</th>\n",
       "      <th>opened_timestamp</th>\n",
       "      <th>num_clicks</th>\n",
       "    </tr>\n",
       "  </thead>\n",
       "  <tbody>\n",
       "    <tr>\n",
       "      <td>0</td>\n",
       "      <td>006e790a-89c2-4406-8256-0b59aba1c6cc</td>\n",
       "      <td>campaign_02</td>\n",
       "      <td>22df8f8e-43ef-48bd-9ee7-42780dc31a3b</td>\n",
       "      <td>jobs-001</td>\n",
       "      <td>[u'ziprecruiterpaid0_cpcb9cca589-f260cbf7', u'...</td>\n",
       "      <td>2020-04-27 13:27:09+00:00</td>\n",
       "      <td>False</td>\n",
       "      <td>False</td>\n",
       "      <td>False</td>\n",
       "      <td>NaN</td>\n",
       "      <td>NaT</td>\n",
       "      <td>NaN</td>\n",
       "    </tr>\n",
       "    <tr>\n",
       "      <td>1</td>\n",
       "      <td>010a9c95-5996-4895-97a3-a20a7311f066</td>\n",
       "      <td>campaign_01</td>\n",
       "      <td>6846759f-1f69-4e4e-b65b-4bc18876dcc6</td>\n",
       "      <td>jobs-001</td>\n",
       "      <td>[u'ziprecruiter-sponsored-vet_cpc-18c7cdac', u...</td>\n",
       "      <td>2020-04-27 13:28:55+00:00</td>\n",
       "      <td>False</td>\n",
       "      <td>False</td>\n",
       "      <td>False</td>\n",
       "      <td>NaN</td>\n",
       "      <td>NaT</td>\n",
       "      <td>NaN</td>\n",
       "    </tr>\n",
       "  </tbody>\n",
       "</table>\n",
       "</div>"
      ],
      "text/plain": [
       "                                 iduser     campaign  \\\n",
       "0  006e790a-89c2-4406-8256-0b59aba1c6cc  campaign_02   \n",
       "1  010a9c95-5996-4895-97a3-a20a7311f066  campaign_01   \n",
       "\n",
       "                               email_id subject_id  \\\n",
       "0  22df8f8e-43ef-48bd-9ee7-42780dc31a3b   jobs-001   \n",
       "1  6846759f-1f69-4e4e-b65b-4bc18876dcc6   jobs-001   \n",
       "\n",
       "                           ziprecruiter_job_id_array  \\\n",
       "0  [u'ziprecruiterpaid0_cpcb9cca589-f260cbf7', u'...   \n",
       "1  [u'ziprecruiter-sponsored-vet_cpc-18c7cdac', u...   \n",
       "\n",
       "                  timestamp  bounced_mail  unsubscribed_mail  spam_mail  \\\n",
       "0 2020-04-27 13:27:09+00:00         False              False      False   \n",
       "1 2020-04-27 13:28:55+00:00         False              False      False   \n",
       "\n",
       "  eventname opened_timestamp  num_clicks  \n",
       "0       NaN              NaT         NaN  \n",
       "1       NaN              NaT         NaN  "
      ]
     },
     "execution_count": 14,
     "metadata": {},
     "output_type": "execute_result"
    }
   ],
   "source": [
    "df_funnel = preprocess.build_funnel(df_sent, df_opened, df_clicked)\n",
    "df_funnel.head(2)"
   ]
  },
  {
   "cell_type": "code",
   "execution_count": 15,
   "metadata": {},
   "outputs": [
    {
     "name": "stdout",
     "output_type": "stream",
     "text": [
      "Building master table...\n",
      "Length master df: 241588\n"
     ]
    },
    {
     "data": {
      "text/html": [
       "<div>\n",
       "<style scoped>\n",
       "    .dataframe tbody tr th:only-of-type {\n",
       "        vertical-align: middle;\n",
       "    }\n",
       "\n",
       "    .dataframe tbody tr th {\n",
       "        vertical-align: top;\n",
       "    }\n",
       "\n",
       "    .dataframe thead th {\n",
       "        text-align: right;\n",
       "    }\n",
       "</style>\n",
       "<table border=\"1\" class=\"dataframe\">\n",
       "  <thead>\n",
       "    <tr style=\"text-align: right;\">\n",
       "      <th></th>\n",
       "      <th>iduser</th>\n",
       "      <th>campaign</th>\n",
       "      <th>email_id</th>\n",
       "      <th>subject_id</th>\n",
       "      <th>timestamp</th>\n",
       "      <th>bounced_mail</th>\n",
       "      <th>unsubscribed_mail</th>\n",
       "      <th>spam_mail</th>\n",
       "      <th>opened_timestamp</th>\n",
       "      <th>num_clicks</th>\n",
       "      <th>opened_mail</th>\n",
       "      <th>clicked_mail</th>\n",
       "    </tr>\n",
       "  </thead>\n",
       "  <tbody>\n",
       "    <tr>\n",
       "      <td>0</td>\n",
       "      <td>006e790a-89c2-4406-8256-0b59aba1c6cc</td>\n",
       "      <td>campaign_02</td>\n",
       "      <td>22df8f8e-43ef-48bd-9ee7-42780dc31a3b</td>\n",
       "      <td>jobs-001</td>\n",
       "      <td>2020-04-27 13:27:09+00:00</td>\n",
       "      <td>False</td>\n",
       "      <td>False</td>\n",
       "      <td>False</td>\n",
       "      <td>NaT</td>\n",
       "      <td>NaN</td>\n",
       "      <td>False</td>\n",
       "      <td>False</td>\n",
       "    </tr>\n",
       "    <tr>\n",
       "      <td>1</td>\n",
       "      <td>010a9c95-5996-4895-97a3-a20a7311f066</td>\n",
       "      <td>campaign_01</td>\n",
       "      <td>6846759f-1f69-4e4e-b65b-4bc18876dcc6</td>\n",
       "      <td>jobs-001</td>\n",
       "      <td>2020-04-27 13:28:55+00:00</td>\n",
       "      <td>False</td>\n",
       "      <td>False</td>\n",
       "      <td>False</td>\n",
       "      <td>NaT</td>\n",
       "      <td>NaN</td>\n",
       "      <td>False</td>\n",
       "      <td>False</td>\n",
       "    </tr>\n",
       "  </tbody>\n",
       "</table>\n",
       "</div>"
      ],
      "text/plain": [
       "                                 iduser     campaign  \\\n",
       "0  006e790a-89c2-4406-8256-0b59aba1c6cc  campaign_02   \n",
       "1  010a9c95-5996-4895-97a3-a20a7311f066  campaign_01   \n",
       "\n",
       "                               email_id subject_id                 timestamp  \\\n",
       "0  22df8f8e-43ef-48bd-9ee7-42780dc31a3b   jobs-001 2020-04-27 13:27:09+00:00   \n",
       "1  6846759f-1f69-4e4e-b65b-4bc18876dcc6   jobs-001 2020-04-27 13:28:55+00:00   \n",
       "\n",
       "   bounced_mail  unsubscribed_mail  spam_mail opened_timestamp  num_clicks  \\\n",
       "0         False              False      False              NaT         NaN   \n",
       "1         False              False      False              NaT         NaN   \n",
       "\n",
       "   opened_mail  clicked_mail  \n",
       "0        False         False  \n",
       "1        False         False  "
      ]
     },
     "execution_count": 15,
     "metadata": {},
     "output_type": "execute_result"
    }
   ],
   "source": [
    "drop_cols_master = ['ziprecruiter_job_id_array', 'eventname']\n",
    "df_master = preprocess.build_master(df_funnel, drop_cols_master)\n",
    "df_master.head(2)"
   ]
  },
  {
   "cell_type": "markdown",
   "metadata": {},
   "source": [
    "Inspecting NAN and filling them if needed"
   ]
  },
  {
   "cell_type": "code",
   "execution_count": 16,
   "metadata": {},
   "outputs": [
    {
     "name": "stdout",
     "output_type": "stream",
     "text": [
      "<class 'pandas.core.frame.DataFrame'>\n",
      "Int64Index: 241588 entries, 0 to 241587\n",
      "Data columns (total 12 columns):\n",
      "iduser               241588 non-null object\n",
      "campaign             241588 non-null object\n",
      "email_id             241588 non-null object\n",
      "subject_id           241588 non-null object\n",
      "timestamp            241588 non-null datetime64[ns, UTC]\n",
      "bounced_mail         241588 non-null bool\n",
      "unsubscribed_mail    241588 non-null bool\n",
      "spam_mail            241588 non-null bool\n",
      "opened_timestamp     15633 non-null datetime64[ns, UTC]\n",
      "num_clicks           1246 non-null float64\n",
      "opened_mail          241588 non-null bool\n",
      "clicked_mail         241588 non-null bool\n",
      "dtypes: bool(5), datetime64[ns, UTC](2), float64(1), object(4)\n",
      "memory usage: 15.9+ MB\n"
     ]
    }
   ],
   "source": [
    "df_master.info()"
   ]
  },
  {
   "cell_type": "code",
   "execution_count": 17,
   "metadata": {},
   "outputs": [
    {
     "name": "stdout",
     "output_type": "stream",
     "text": [
      "Preprocessing master table...\n"
     ]
    }
   ],
   "source": [
    "values_bool = dict.fromkeys(['num_clicks'], 0)\n",
    "df_master = preprocess.preprocess_master(df_master, values_num_dict={}, values_bool_dict=values_bool)"
   ]
  },
  {
   "cell_type": "code",
   "execution_count": 18,
   "metadata": {},
   "outputs": [
    {
     "data": {
      "text/html": [
       "<div>\n",
       "<style scoped>\n",
       "    .dataframe tbody tr th:only-of-type {\n",
       "        vertical-align: middle;\n",
       "    }\n",
       "\n",
       "    .dataframe tbody tr th {\n",
       "        vertical-align: top;\n",
       "    }\n",
       "\n",
       "    .dataframe thead th {\n",
       "        text-align: right;\n",
       "    }\n",
       "</style>\n",
       "<table border=\"1\" class=\"dataframe\">\n",
       "  <thead>\n",
       "    <tr style=\"text-align: right;\">\n",
       "      <th></th>\n",
       "      <th>iduser</th>\n",
       "      <th>campaign</th>\n",
       "      <th>email_id</th>\n",
       "      <th>subject_id</th>\n",
       "      <th>timestamp</th>\n",
       "      <th>bounced_mail</th>\n",
       "      <th>unsubscribed_mail</th>\n",
       "      <th>spam_mail</th>\n",
       "      <th>opened_timestamp</th>\n",
       "      <th>num_clicks</th>\n",
       "      <th>opened_mail</th>\n",
       "      <th>clicked_mail</th>\n",
       "    </tr>\n",
       "  </thead>\n",
       "  <tbody>\n",
       "    <tr>\n",
       "      <td>0</td>\n",
       "      <td>006e790a-89c2-4406-8256-0b59aba1c6cc</td>\n",
       "      <td>campaign_02</td>\n",
       "      <td>22df8f8e-43ef-48bd-9ee7-42780dc31a3b</td>\n",
       "      <td>jobs-001</td>\n",
       "      <td>2020-04-27 13:27:09+00:00</td>\n",
       "      <td>False</td>\n",
       "      <td>False</td>\n",
       "      <td>False</td>\n",
       "      <td>NaT</td>\n",
       "      <td>0.0</td>\n",
       "      <td>False</td>\n",
       "      <td>False</td>\n",
       "    </tr>\n",
       "    <tr>\n",
       "      <td>1</td>\n",
       "      <td>010a9c95-5996-4895-97a3-a20a7311f066</td>\n",
       "      <td>campaign_01</td>\n",
       "      <td>6846759f-1f69-4e4e-b65b-4bc18876dcc6</td>\n",
       "      <td>jobs-001</td>\n",
       "      <td>2020-04-27 13:28:55+00:00</td>\n",
       "      <td>False</td>\n",
       "      <td>False</td>\n",
       "      <td>False</td>\n",
       "      <td>NaT</td>\n",
       "      <td>0.0</td>\n",
       "      <td>False</td>\n",
       "      <td>False</td>\n",
       "    </tr>\n",
       "  </tbody>\n",
       "</table>\n",
       "</div>"
      ],
      "text/plain": [
       "                                 iduser     campaign  \\\n",
       "0  006e790a-89c2-4406-8256-0b59aba1c6cc  campaign_02   \n",
       "1  010a9c95-5996-4895-97a3-a20a7311f066  campaign_01   \n",
       "\n",
       "                               email_id subject_id                 timestamp  \\\n",
       "0  22df8f8e-43ef-48bd-9ee7-42780dc31a3b   jobs-001 2020-04-27 13:27:09+00:00   \n",
       "1  6846759f-1f69-4e4e-b65b-4bc18876dcc6   jobs-001 2020-04-27 13:28:55+00:00   \n",
       "\n",
       "   bounced_mail  unsubscribed_mail  spam_mail opened_timestamp  num_clicks  \\\n",
       "0         False              False      False              NaT         0.0   \n",
       "1         False              False      False              NaT         0.0   \n",
       "\n",
       "   opened_mail  clicked_mail  \n",
       "0        False         False  \n",
       "1        False         False  "
      ]
     },
     "execution_count": 18,
     "metadata": {},
     "output_type": "execute_result"
    }
   ],
   "source": [
    "df_master.head(2)"
   ]
  },
  {
   "cell_type": "markdown",
   "metadata": {},
   "source": [
    "## Importing directly to GBQ"
   ]
  },
  {
   "cell_type": "code",
   "execution_count": null,
   "metadata": {},
   "outputs": [],
   "source": [
    "df_master.to_gbq('miscellaneous.candidate_monetization_mails', 'merlin-pro', if_exists='replace')"
   ]
  }
 ],
 "metadata": {
  "kernelspec": {
   "display_name": "Python 3",
   "language": "python",
   "name": "python3"
  },
  "language_info": {
   "codemirror_mode": {
    "name": "ipython",
    "version": 3
   },
   "file_extension": ".py",
   "mimetype": "text/x-python",
   "name": "python",
   "nbconvert_exporter": "python",
   "pygments_lexer": "ipython3",
   "version": "3.7.1"
  }
 },
 "nbformat": 4,
 "nbformat_minor": 4
}
